{
 "cells": [
  {
   "cell_type": "code",
   "execution_count": 217,
   "metadata": {},
   "outputs": [],
   "source": [
    "#Importing required packages\n",
    "\n",
    "import numpy as np\n",
    "import pandas as pd\n",
    "import matplotlib.pyplot as plt\n",
    "import seaborn as sns"
   ]
  },
  {
   "cell_type": "code",
   "execution_count": 218,
   "metadata": {},
   "outputs": [
    {
     "data": {
      "text/plain": [
       "(2195, 8)"
      ]
     },
     "execution_count": 218,
     "metadata": {},
     "output_type": "execute_result"
    }
   ],
   "source": [
    "#Read data from csv file\n",
    "data = pd.read_csv('data/covid_19_data.csv')\n",
    "data.shape"
   ]
  },
  {
   "cell_type": "code",
   "execution_count": 219,
   "metadata": {},
   "outputs": [
    {
     "data": {
      "text/html": [
       "<div>\n",
       "<style scoped>\n",
       "    .dataframe tbody tr th:only-of-type {\n",
       "        vertical-align: middle;\n",
       "    }\n",
       "\n",
       "    .dataframe tbody tr th {\n",
       "        vertical-align: top;\n",
       "    }\n",
       "\n",
       "    .dataframe thead th {\n",
       "        text-align: right;\n",
       "    }\n",
       "</style>\n",
       "<table border=\"1\" class=\"dataframe\">\n",
       "  <thead>\n",
       "    <tr style=\"text-align: right;\">\n",
       "      <th></th>\n",
       "      <th>SNo</th>\n",
       "      <th>ObservationDate</th>\n",
       "      <th>Province/State</th>\n",
       "      <th>Country/Region</th>\n",
       "      <th>Last Update</th>\n",
       "      <th>Confirmed</th>\n",
       "      <th>Deaths</th>\n",
       "      <th>Recovered</th>\n",
       "    </tr>\n",
       "  </thead>\n",
       "  <tbody>\n",
       "    <tr>\n",
       "      <th>1415</th>\n",
       "      <td>1416</td>\n",
       "      <td>02/14/2020</td>\n",
       "      <td>Hubei</td>\n",
       "      <td>Mainland China</td>\n",
       "      <td>2020-02-14T23:33:02</td>\n",
       "      <td>54406.0</td>\n",
       "      <td>1457.0</td>\n",
       "      <td>4774.0</td>\n",
       "    </tr>\n",
       "    <tr>\n",
       "      <th>1490</th>\n",
       "      <td>1491</td>\n",
       "      <td>02/15/2020</td>\n",
       "      <td>Hubei</td>\n",
       "      <td>Mainland China</td>\n",
       "      <td>2020-02-15T23:13:05</td>\n",
       "      <td>56249.0</td>\n",
       "      <td>1596.0</td>\n",
       "      <td>5623.0</td>\n",
       "    </tr>\n",
       "    <tr>\n",
       "      <th>1565</th>\n",
       "      <td>1566</td>\n",
       "      <td>02/16/2020</td>\n",
       "      <td>Hubei</td>\n",
       "      <td>Mainland China</td>\n",
       "      <td>2020-02-16T23:53:01</td>\n",
       "      <td>58182.0</td>\n",
       "      <td>1696.0</td>\n",
       "      <td>6639.0</td>\n",
       "    </tr>\n",
       "    <tr>\n",
       "      <th>1640</th>\n",
       "      <td>1641</td>\n",
       "      <td>02/17/2020</td>\n",
       "      <td>Hubei</td>\n",
       "      <td>Mainland China</td>\n",
       "      <td>2020-02-17T23:13:06</td>\n",
       "      <td>59989.0</td>\n",
       "      <td>1789.0</td>\n",
       "      <td>7862.0</td>\n",
       "    </tr>\n",
       "    <tr>\n",
       "      <th>1715</th>\n",
       "      <td>1716</td>\n",
       "      <td>02/18/2020</td>\n",
       "      <td>Hubei</td>\n",
       "      <td>Mainland China</td>\n",
       "      <td>2020-02-18T23:13:11</td>\n",
       "      <td>61682.0</td>\n",
       "      <td>1921.0</td>\n",
       "      <td>9128.0</td>\n",
       "    </tr>\n",
       "    <tr>\n",
       "      <th>1790</th>\n",
       "      <td>1791</td>\n",
       "      <td>02/19/2020</td>\n",
       "      <td>Hubei</td>\n",
       "      <td>Mainland China</td>\n",
       "      <td>2020-02-19T23:23:02</td>\n",
       "      <td>62031.0</td>\n",
       "      <td>2029.0</td>\n",
       "      <td>10337.0</td>\n",
       "    </tr>\n",
       "    <tr>\n",
       "      <th>1866</th>\n",
       "      <td>1867</td>\n",
       "      <td>02/20/2020</td>\n",
       "      <td>Hubei</td>\n",
       "      <td>Mainland China</td>\n",
       "      <td>2020-02-20T23:43:02</td>\n",
       "      <td>62442.0</td>\n",
       "      <td>2144.0</td>\n",
       "      <td>11788.0</td>\n",
       "    </tr>\n",
       "    <tr>\n",
       "      <th>1942</th>\n",
       "      <td>1943</td>\n",
       "      <td>02/21/2020</td>\n",
       "      <td>Hubei</td>\n",
       "      <td>Mainland China</td>\n",
       "      <td>2020-02-21T13:03:09</td>\n",
       "      <td>62662.0</td>\n",
       "      <td>2144.0</td>\n",
       "      <td>11881.0</td>\n",
       "    </tr>\n",
       "    <tr>\n",
       "      <th>2026</th>\n",
       "      <td>2027</td>\n",
       "      <td>02/22/2020</td>\n",
       "      <td>Hubei</td>\n",
       "      <td>Mainland China</td>\n",
       "      <td>2020-02-22T23:33:06</td>\n",
       "      <td>64084.0</td>\n",
       "      <td>2346.0</td>\n",
       "      <td>15299.0</td>\n",
       "    </tr>\n",
       "    <tr>\n",
       "      <th>2110</th>\n",
       "      <td>2111</td>\n",
       "      <td>02/23/2020</td>\n",
       "      <td>Hubei</td>\n",
       "      <td>Mainland China</td>\n",
       "      <td>2020-02-23T11:33:03</td>\n",
       "      <td>64084.0</td>\n",
       "      <td>2346.0</td>\n",
       "      <td>15343.0</td>\n",
       "    </tr>\n",
       "  </tbody>\n",
       "</table>\n",
       "</div>"
      ],
      "text/plain": [
       "       SNo ObservationDate Province/State  Country/Region  \\\n",
       "1415  1416      02/14/2020          Hubei  Mainland China   \n",
       "1490  1491      02/15/2020          Hubei  Mainland China   \n",
       "1565  1566      02/16/2020          Hubei  Mainland China   \n",
       "1640  1641      02/17/2020          Hubei  Mainland China   \n",
       "1715  1716      02/18/2020          Hubei  Mainland China   \n",
       "1790  1791      02/19/2020          Hubei  Mainland China   \n",
       "1866  1867      02/20/2020          Hubei  Mainland China   \n",
       "1942  1943      02/21/2020          Hubei  Mainland China   \n",
       "2026  2027      02/22/2020          Hubei  Mainland China   \n",
       "2110  2111      02/23/2020          Hubei  Mainland China   \n",
       "\n",
       "              Last Update  Confirmed  Deaths  Recovered  \n",
       "1415  2020-02-14T23:33:02    54406.0  1457.0     4774.0  \n",
       "1490  2020-02-15T23:13:05    56249.0  1596.0     5623.0  \n",
       "1565  2020-02-16T23:53:01    58182.0  1696.0     6639.0  \n",
       "1640  2020-02-17T23:13:06    59989.0  1789.0     7862.0  \n",
       "1715  2020-02-18T23:13:11    61682.0  1921.0     9128.0  \n",
       "1790  2020-02-19T23:23:02    62031.0  2029.0    10337.0  \n",
       "1866  2020-02-20T23:43:02    62442.0  2144.0    11788.0  \n",
       "1942  2020-02-21T13:03:09    62662.0  2144.0    11881.0  \n",
       "2026  2020-02-22T23:33:06    64084.0  2346.0    15299.0  \n",
       "2110  2020-02-23T11:33:03    64084.0  2346.0    15343.0  "
      ]
     },
     "execution_count": 219,
     "metadata": {},
     "output_type": "execute_result"
    }
   ],
   "source": [
    "data[data['Province/State'] == 'Hubei'].tail(10)"
   ]
  },
  {
   "cell_type": "code",
   "execution_count": 220,
   "metadata": {},
   "outputs": [],
   "source": [
    "#Cleanup data on Province/State\n",
    "\n",
    "def clear_country(record):\n",
    "    if record['Province/State'] == 'Hong Kong' or record['Province/State'] == 'Macau' or record['Province/State'] == 'Taiwan':\n",
    "        return record['Province/State']\n",
    "    elif record['Country/Region'] == 'China':\n",
    "        return 'Mainland China'\n",
    "    else: return record['Country/Region']\n",
    "\n",
    "#Prepare new row with new Country adjustment data\n",
    "\n",
    "data['Country_arrange'] = data.apply(lambda row : clear_country(row), axis=1)"
   ]
  },
  {
   "cell_type": "code",
   "execution_count": 221,
   "metadata": {},
   "outputs": [
    {
     "data": {
      "text/html": [
       "<div>\n",
       "<style scoped>\n",
       "    .dataframe tbody tr th:only-of-type {\n",
       "        vertical-align: middle;\n",
       "    }\n",
       "\n",
       "    .dataframe tbody tr th {\n",
       "        vertical-align: top;\n",
       "    }\n",
       "\n",
       "    .dataframe thead th {\n",
       "        text-align: right;\n",
       "    }\n",
       "</style>\n",
       "<table border=\"1\" class=\"dataframe\">\n",
       "  <thead>\n",
       "    <tr style=\"text-align: right;\">\n",
       "      <th></th>\n",
       "      <th>Date</th>\n",
       "      <th>Province/State</th>\n",
       "      <th>Last Update</th>\n",
       "      <th>Confirmed</th>\n",
       "      <th>Deaths</th>\n",
       "      <th>Recovered</th>\n",
       "      <th>Country</th>\n",
       "    </tr>\n",
       "  </thead>\n",
       "  <tbody>\n",
       "    <tr>\n",
       "      <th>0</th>\n",
       "      <td>01/22/2020</td>\n",
       "      <td>Anhui</td>\n",
       "      <td>1/22/2020 17:00</td>\n",
       "      <td>1.0</td>\n",
       "      <td>0.0</td>\n",
       "      <td>0.0</td>\n",
       "      <td>Mainland China</td>\n",
       "    </tr>\n",
       "    <tr>\n",
       "      <th>1</th>\n",
       "      <td>01/22/2020</td>\n",
       "      <td>Beijing</td>\n",
       "      <td>1/22/2020 17:00</td>\n",
       "      <td>14.0</td>\n",
       "      <td>0.0</td>\n",
       "      <td>0.0</td>\n",
       "      <td>Mainland China</td>\n",
       "    </tr>\n",
       "    <tr>\n",
       "      <th>2</th>\n",
       "      <td>01/22/2020</td>\n",
       "      <td>Chongqing</td>\n",
       "      <td>1/22/2020 17:00</td>\n",
       "      <td>6.0</td>\n",
       "      <td>0.0</td>\n",
       "      <td>0.0</td>\n",
       "      <td>Mainland China</td>\n",
       "    </tr>\n",
       "    <tr>\n",
       "      <th>3</th>\n",
       "      <td>01/22/2020</td>\n",
       "      <td>Fujian</td>\n",
       "      <td>1/22/2020 17:00</td>\n",
       "      <td>1.0</td>\n",
       "      <td>0.0</td>\n",
       "      <td>0.0</td>\n",
       "      <td>Mainland China</td>\n",
       "    </tr>\n",
       "    <tr>\n",
       "      <th>4</th>\n",
       "      <td>01/22/2020</td>\n",
       "      <td>Gansu</td>\n",
       "      <td>1/22/2020 17:00</td>\n",
       "      <td>0.0</td>\n",
       "      <td>0.0</td>\n",
       "      <td>0.0</td>\n",
       "      <td>Mainland China</td>\n",
       "    </tr>\n",
       "  </tbody>\n",
       "</table>\n",
       "</div>"
      ],
      "text/plain": [
       "         Date Province/State      Last Update  Confirmed  Deaths  Recovered  \\\n",
       "0  01/22/2020          Anhui  1/22/2020 17:00        1.0     0.0        0.0   \n",
       "1  01/22/2020        Beijing  1/22/2020 17:00       14.0     0.0        0.0   \n",
       "2  01/22/2020      Chongqing  1/22/2020 17:00        6.0     0.0        0.0   \n",
       "3  01/22/2020         Fujian  1/22/2020 17:00        1.0     0.0        0.0   \n",
       "4  01/22/2020          Gansu  1/22/2020 17:00        0.0     0.0        0.0   \n",
       "\n",
       "          Country  \n",
       "0  Mainland China  \n",
       "1  Mainland China  \n",
       "2  Mainland China  \n",
       "3  Mainland China  \n",
       "4  Mainland China  "
      ]
     },
     "execution_count": 221,
     "metadata": {},
     "output_type": "execute_result"
    }
   ],
   "source": [
    "#Let's remove unnecessary columns from the dataset\n",
    "\n",
    "data = data.drop_duplicates()\n",
    "data = data.drop(['SNo','Country/Region'], axis=1)\n",
    "data = data.rename(columns={'Country_arrange' : 'Country', 'ObservationDate' : 'Date'})\n",
    "data.head()"
   ]
  },
  {
   "cell_type": "code",
   "execution_count": 222,
   "metadata": {},
   "outputs": [
    {
     "name": "stdout",
     "output_type": "stream",
     "text": [
      "['Mainland China', 'Hong Kong', 'Macau', 'Taiwan', 'US', 'Japan', 'Thailand', 'South Korea', 'Singapore', 'Philippines', 'Malaysia', 'Vietnam', 'Australia', 'Mexico', 'Brazil', 'Colombia', 'France', 'Nepal', 'Canada', 'Cambodia', 'Sri Lanka', 'Ivory Coast', 'Germany', 'Finland', 'United Arab Emirates', 'India', 'Italy', 'UK', 'Russia', 'Sweden', 'Spain', 'Belgium', 'Egypt', 'Iran', 'Israel', 'Lebanon', 'Iraq']\n"
     ]
    }
   ],
   "source": [
    "#Countries affected by Corona Virus\n",
    "\n",
    "Countries = data[(data['Country']!='Others') & (data['Country']!='Undisclosed')]['Country'].unique().tolist()\n",
    "print(Countries)"
   ]
  },
  {
   "cell_type": "code",
   "execution_count": 223,
   "metadata": {},
   "outputs": [
    {
     "name": "stdout",
     "output_type": "stream",
     "text": [
      "Total countries affected by COVID-19 : 37\n"
     ]
    }
   ],
   "source": [
    "#Total countries affected by COVID-19\n",
    "\n",
    "print(\"Total countries affected by COVID-19 :\", len(Countries))"
   ]
  },
  {
   "cell_type": "code",
   "execution_count": 224,
   "metadata": {},
   "outputs": [
    {
     "data": {
      "text/html": [
       "<div>\n",
       "<style scoped>\n",
       "    .dataframe tbody tr th:only-of-type {\n",
       "        vertical-align: middle;\n",
       "    }\n",
       "\n",
       "    .dataframe tbody tr th {\n",
       "        vertical-align: top;\n",
       "    }\n",
       "\n",
       "    .dataframe thead th {\n",
       "        text-align: right;\n",
       "    }\n",
       "</style>\n",
       "<table border=\"1\" class=\"dataframe\">\n",
       "  <thead>\n",
       "    <tr style=\"text-align: right;\">\n",
       "      <th></th>\n",
       "      <th>Date</th>\n",
       "      <th>Province/State</th>\n",
       "      <th>Last Update</th>\n",
       "      <th>Confirmed</th>\n",
       "      <th>Deaths</th>\n",
       "      <th>Recovered</th>\n",
       "      <th>Country</th>\n",
       "      <th>segment</th>\n",
       "    </tr>\n",
       "  </thead>\n",
       "  <tbody>\n",
       "    <tr>\n",
       "      <th>0</th>\n",
       "      <td>01/22/2020</td>\n",
       "      <td>Anhui</td>\n",
       "      <td>1/22/2020 17:00</td>\n",
       "      <td>1.0</td>\n",
       "      <td>0.0</td>\n",
       "      <td>0.0</td>\n",
       "      <td>Mainland China</td>\n",
       "      <td>Others PRC</td>\n",
       "    </tr>\n",
       "    <tr>\n",
       "      <th>1</th>\n",
       "      <td>01/22/2020</td>\n",
       "      <td>Beijing</td>\n",
       "      <td>1/22/2020 17:00</td>\n",
       "      <td>14.0</td>\n",
       "      <td>0.0</td>\n",
       "      <td>0.0</td>\n",
       "      <td>Mainland China</td>\n",
       "      <td>Others PRC</td>\n",
       "    </tr>\n",
       "    <tr>\n",
       "      <th>2</th>\n",
       "      <td>01/22/2020</td>\n",
       "      <td>Chongqing</td>\n",
       "      <td>1/22/2020 17:00</td>\n",
       "      <td>6.0</td>\n",
       "      <td>0.0</td>\n",
       "      <td>0.0</td>\n",
       "      <td>Mainland China</td>\n",
       "      <td>Others PRC</td>\n",
       "    </tr>\n",
       "    <tr>\n",
       "      <th>3</th>\n",
       "      <td>01/22/2020</td>\n",
       "      <td>Fujian</td>\n",
       "      <td>1/22/2020 17:00</td>\n",
       "      <td>1.0</td>\n",
       "      <td>0.0</td>\n",
       "      <td>0.0</td>\n",
       "      <td>Mainland China</td>\n",
       "      <td>Others PRC</td>\n",
       "    </tr>\n",
       "    <tr>\n",
       "      <th>4</th>\n",
       "      <td>01/22/2020</td>\n",
       "      <td>Gansu</td>\n",
       "      <td>1/22/2020 17:00</td>\n",
       "      <td>0.0</td>\n",
       "      <td>0.0</td>\n",
       "      <td>0.0</td>\n",
       "      <td>Mainland China</td>\n",
       "      <td>Others PRC</td>\n",
       "    </tr>\n",
       "  </tbody>\n",
       "</table>\n",
       "</div>"
      ],
      "text/plain": [
       "         Date Province/State      Last Update  Confirmed  Deaths  Recovered  \\\n",
       "0  01/22/2020          Anhui  1/22/2020 17:00        1.0     0.0        0.0   \n",
       "1  01/22/2020        Beijing  1/22/2020 17:00       14.0     0.0        0.0   \n",
       "2  01/22/2020      Chongqing  1/22/2020 17:00        6.0     0.0        0.0   \n",
       "3  01/22/2020         Fujian  1/22/2020 17:00        1.0     0.0        0.0   \n",
       "4  01/22/2020          Gansu  1/22/2020 17:00        0.0     0.0        0.0   \n",
       "\n",
       "          Country     segment  \n",
       "0  Mainland China  Others PRC  \n",
       "1  Mainland China  Others PRC  \n",
       "2  Mainland China  Others PRC  \n",
       "3  Mainland China  Others PRC  \n",
       "4  Mainland China  Others PRC  "
      ]
     },
     "execution_count": 224,
     "metadata": {},
     "output_type": "execute_result"
    }
   ],
   "source": [
    "def get_place(row):\n",
    "    if row['Province/State'] == 'Hubei':\n",
    "        return 'Hubei PRC'\n",
    "    elif row['Country'] == 'Mainland China': \n",
    "        return 'Others PRC'\n",
    "    else: return 'World'\n",
    "    \n",
    "data['segment'] = data.apply(lambda row: get_place(row), axis=1)\n",
    "data.head()"
   ]
  },
  {
   "cell_type": "code",
   "execution_count": 225,
   "metadata": {
    "scrolled": true
   },
   "outputs": [
    {
     "data": {
      "text/html": [
       "<div>\n",
       "<style scoped>\n",
       "    .dataframe tbody tr th:only-of-type {\n",
       "        vertical-align: middle;\n",
       "    }\n",
       "\n",
       "    .dataframe tbody tr th {\n",
       "        vertical-align: top;\n",
       "    }\n",
       "\n",
       "    .dataframe thead th {\n",
       "        text-align: right;\n",
       "    }\n",
       "</style>\n",
       "<table border=\"1\" class=\"dataframe\">\n",
       "  <thead>\n",
       "    <tr style=\"text-align: right;\">\n",
       "      <th>segment</th>\n",
       "      <th>Hubei PRC</th>\n",
       "      <th>Others PRC</th>\n",
       "      <th>World</th>\n",
       "      <th>Date</th>\n",
       "    </tr>\n",
       "    <tr>\n",
       "      <th>Date</th>\n",
       "      <th></th>\n",
       "      <th></th>\n",
       "      <th></th>\n",
       "      <th></th>\n",
       "    </tr>\n",
       "  </thead>\n",
       "  <tbody>\n",
       "    <tr>\n",
       "      <th>02/14/2020</th>\n",
       "      <td>54406.0</td>\n",
       "      <td>11886.0</td>\n",
       "      <td>595.0</td>\n",
       "      <td>02/14/2020</td>\n",
       "    </tr>\n",
       "    <tr>\n",
       "      <th>02/15/2020</th>\n",
       "      <td>56249.0</td>\n",
       "      <td>12098.0</td>\n",
       "      <td>685.0</td>\n",
       "      <td>02/15/2020</td>\n",
       "    </tr>\n",
       "    <tr>\n",
       "      <th>02/16/2020</th>\n",
       "      <td>58182.0</td>\n",
       "      <td>12264.0</td>\n",
       "      <td>780.0</td>\n",
       "      <td>02/16/2020</td>\n",
       "    </tr>\n",
       "    <tr>\n",
       "      <th>02/17/2020</th>\n",
       "      <td>59989.0</td>\n",
       "      <td>12375.0</td>\n",
       "      <td>896.0</td>\n",
       "      <td>02/17/2020</td>\n",
       "    </tr>\n",
       "    <tr>\n",
       "      <th>02/18/2020</th>\n",
       "      <td>61682.0</td>\n",
       "      <td>12457.0</td>\n",
       "      <td>999.0</td>\n",
       "      <td>02/18/2020</td>\n",
       "    </tr>\n",
       "    <tr>\n",
       "      <th>02/19/2020</th>\n",
       "      <td>62031.0</td>\n",
       "      <td>12515.0</td>\n",
       "      <td>1095.0</td>\n",
       "      <td>02/19/2020</td>\n",
       "    </tr>\n",
       "    <tr>\n",
       "      <th>02/20/2020</th>\n",
       "      <td>62442.0</td>\n",
       "      <td>12557.0</td>\n",
       "      <td>1200.0</td>\n",
       "      <td>02/20/2020</td>\n",
       "    </tr>\n",
       "    <tr>\n",
       "      <th>02/21/2020</th>\n",
       "      <td>62662.0</td>\n",
       "      <td>12810.0</td>\n",
       "      <td>1371.0</td>\n",
       "      <td>02/21/2020</td>\n",
       "    </tr>\n",
       "    <tr>\n",
       "      <th>02/22/2020</th>\n",
       "      <td>64084.0</td>\n",
       "      <td>12838.0</td>\n",
       "      <td>1677.0</td>\n",
       "      <td>02/22/2020</td>\n",
       "    </tr>\n",
       "    <tr>\n",
       "      <th>02/23/2020</th>\n",
       "      <td>64084.0</td>\n",
       "      <td>12854.0</td>\n",
       "      <td>2047.0</td>\n",
       "      <td>02/23/2020</td>\n",
       "    </tr>\n",
       "  </tbody>\n",
       "</table>\n",
       "</div>"
      ],
      "text/plain": [
       "segment     Hubei PRC  Others PRC   World        Date\n",
       "Date                                                 \n",
       "02/14/2020    54406.0     11886.0   595.0  02/14/2020\n",
       "02/15/2020    56249.0     12098.0   685.0  02/15/2020\n",
       "02/16/2020    58182.0     12264.0   780.0  02/16/2020\n",
       "02/17/2020    59989.0     12375.0   896.0  02/17/2020\n",
       "02/18/2020    61682.0     12457.0   999.0  02/18/2020\n",
       "02/19/2020    62031.0     12515.0  1095.0  02/19/2020\n",
       "02/20/2020    62442.0     12557.0  1200.0  02/20/2020\n",
       "02/21/2020    62662.0     12810.0  1371.0  02/21/2020\n",
       "02/22/2020    64084.0     12838.0  1677.0  02/22/2020\n",
       "02/23/2020    64084.0     12854.0  2047.0  02/23/2020"
      ]
     },
     "execution_count": 225,
     "metadata": {},
     "output_type": "execute_result"
    }
   ],
   "source": [
    "confirm = pd.pivot_table(data.dropna(subset=['Confirmed']), index='Date',\n",
    "                        columns='segment', values='Confirmed', aggfunc=np.sum).fillna(method='ffill')\n",
    "confirm['Date'] = confirm.index\n",
    "confirm.tail(10)"
   ]
  },
  {
   "cell_type": "code",
   "execution_count": 226,
   "metadata": {},
   "outputs": [
    {
     "data": {
      "text/plain": [
       "<matplotlib.axes._subplots.AxesSubplot at 0x1a3015ea50>"
      ]
     },
     "execution_count": 226,
     "metadata": {},
     "output_type": "execute_result"
    },
    {
     "data": {
      "image/png": "[encoded data removed]",
      "text/plain": [
       "<Figure size 1080x576 with 1 Axes>"
      ]
     },
     "metadata": {
      "needs_background": "light"
     },
     "output_type": "display_data"
    }
   ],
   "source": [
    "confirm.plot(kind='bar', figsize = (15,8), width = 0.5, align='center', title='Confirmed Cases')"
   ]
  },
  {
   "cell_type": "code",
   "execution_count": 235,
   "metadata": {},
   "outputs": [
    {
     "data": {
      "text/html": [
       "<div>\n",
       "<style scoped>\n",
       "    .dataframe tbody tr th:only-of-type {\n",
       "        vertical-align: middle;\n",
       "    }\n",
       "\n",
       "    .dataframe tbody tr th {\n",
       "        vertical-align: top;\n",
       "    }\n",
       "\n",
       "    .dataframe thead th {\n",
       "        text-align: right;\n",
       "    }\n",
       "</style>\n",
       "<table border=\"1\" class=\"dataframe\">\n",
       "  <thead>\n",
       "    <tr style=\"text-align: right;\">\n",
       "      <th>segment</th>\n",
       "      <th>Hubei PRC</th>\n",
       "      <th>Others PRC</th>\n",
       "      <th>World</th>\n",
       "    </tr>\n",
       "    <tr>\n",
       "      <th>Date</th>\n",
       "      <th></th>\n",
       "      <th></th>\n",
       "      <th></th>\n",
       "    </tr>\n",
       "  </thead>\n",
       "  <tbody>\n",
       "    <tr>\n",
       "      <th>02/14/2020</th>\n",
       "      <td>1457.0</td>\n",
       "      <td>63.0</td>\n",
       "      <td>3.0</td>\n",
       "    </tr>\n",
       "    <tr>\n",
       "      <th>02/15/2020</th>\n",
       "      <td>1596.0</td>\n",
       "      <td>66.0</td>\n",
       "      <td>4.0</td>\n",
       "    </tr>\n",
       "    <tr>\n",
       "      <th>02/16/2020</th>\n",
       "      <td>1696.0</td>\n",
       "      <td>69.0</td>\n",
       "      <td>5.0</td>\n",
       "    </tr>\n",
       "    <tr>\n",
       "      <th>02/17/2020</th>\n",
       "      <td>1789.0</td>\n",
       "      <td>74.0</td>\n",
       "      <td>5.0</td>\n",
       "    </tr>\n",
       "    <tr>\n",
       "      <th>02/18/2020</th>\n",
       "      <td>1921.0</td>\n",
       "      <td>81.0</td>\n",
       "      <td>5.0</td>\n",
       "    </tr>\n",
       "    <tr>\n",
       "      <th>02/19/2020</th>\n",
       "      <td>2029.0</td>\n",
       "      <td>85.0</td>\n",
       "      <td>8.0</td>\n",
       "    </tr>\n",
       "    <tr>\n",
       "      <th>02/20/2020</th>\n",
       "      <td>2144.0</td>\n",
       "      <td>92.0</td>\n",
       "      <td>11.0</td>\n",
       "    </tr>\n",
       "    <tr>\n",
       "      <th>02/21/2020</th>\n",
       "      <td>2144.0</td>\n",
       "      <td>92.0</td>\n",
       "      <td>15.0</td>\n",
       "    </tr>\n",
       "    <tr>\n",
       "      <th>02/22/2020</th>\n",
       "      <td>2346.0</td>\n",
       "      <td>95.0</td>\n",
       "      <td>17.0</td>\n",
       "    </tr>\n",
       "    <tr>\n",
       "      <th>02/23/2020</th>\n",
       "      <td>2346.0</td>\n",
       "      <td>97.0</td>\n",
       "      <td>26.0</td>\n",
       "    </tr>\n",
       "  </tbody>\n",
       "</table>\n",
       "</div>"
      ],
      "text/plain": [
       "segment     Hubei PRC  Others PRC  World\n",
       "Date                                    \n",
       "02/14/2020     1457.0        63.0    3.0\n",
       "02/15/2020     1596.0        66.0    4.0\n",
       "02/16/2020     1696.0        69.0    5.0\n",
       "02/17/2020     1789.0        74.0    5.0\n",
       "02/18/2020     1921.0        81.0    5.0\n",
       "02/19/2020     2029.0        85.0    8.0\n",
       "02/20/2020     2144.0        92.0   11.0\n",
       "02/21/2020     2144.0        92.0   15.0\n",
       "02/22/2020     2346.0        95.0   17.0\n",
       "02/23/2020     2346.0        97.0   26.0"
      ]
     },
     "execution_count": 235,
     "metadata": {},
     "output_type": "execute_result"
    }
   ],
   "source": [
    "death = pd.pivot_table(data.dropna(subset=['Deaths']),\n",
    "                      index='Date', columns='segment', values='Deaths', aggfunc=np.sum).fillna(method = 'ffill')\n",
    "death.tail(10)"
   ]
  },
  {
   "cell_type": "code",
   "execution_count": 228,
   "metadata": {},
   "outputs": [
    {
     "data": {
      "text/plain": [
       "<matplotlib.axes._subplots.AxesSubplot at 0x1a306a4410>"
      ]
     },
     "execution_count": 228,
     "metadata": {},
     "output_type": "execute_result"
    },
    {
     "data": {
      "image/png": "[encoded data removed]",
      "text/plain": [
       "<Figure size 1080x576 with 1 Axes>"
      ]
     },
     "metadata": {
      "needs_background": "light"
     },
     "output_type": "display_data"
    }
   ],
   "source": [
    "death.plot(kind='bar', figsize = (15,8), width = 0.5, align='center', title='Deaths')"
   ]
  },
  {
   "cell_type": "markdown",
   "metadata": {},
   "source": [
    "as you can see majority death comes from Hubei province"
   ]
  },
  {
   "cell_type": "code",
   "execution_count": 237,
   "metadata": {},
   "outputs": [
    {
     "data": {
      "text/html": [
       "<div>\n",
       "<style scoped>\n",
       "    .dataframe tbody tr th:only-of-type {\n",
       "        vertical-align: middle;\n",
       "    }\n",
       "\n",
       "    .dataframe tbody tr th {\n",
       "        vertical-align: top;\n",
       "    }\n",
       "\n",
       "    .dataframe thead th {\n",
       "        text-align: right;\n",
       "    }\n",
       "</style>\n",
       "<table border=\"1\" class=\"dataframe\">\n",
       "  <thead>\n",
       "    <tr style=\"text-align: right;\">\n",
       "      <th>segment</th>\n",
       "      <th>Hubei PRC</th>\n",
       "      <th>Others PRC</th>\n",
       "      <th>World</th>\n",
       "    </tr>\n",
       "    <tr>\n",
       "      <th>Date</th>\n",
       "      <th></th>\n",
       "      <th></th>\n",
       "      <th></th>\n",
       "    </tr>\n",
       "  </thead>\n",
       "  <tbody>\n",
       "    <tr>\n",
       "      <th>02/14/2020</th>\n",
       "      <td>4774.0</td>\n",
       "      <td>3199.0</td>\n",
       "      <td>85.0</td>\n",
       "    </tr>\n",
       "    <tr>\n",
       "      <th>02/15/2020</th>\n",
       "      <td>5623.0</td>\n",
       "      <td>3671.0</td>\n",
       "      <td>101.0</td>\n",
       "    </tr>\n",
       "    <tr>\n",
       "      <th>02/16/2020</th>\n",
       "      <td>6639.0</td>\n",
       "      <td>4109.0</td>\n",
       "      <td>117.0</td>\n",
       "    </tr>\n",
       "    <tr>\n",
       "      <th>02/17/2020</th>\n",
       "      <td>7862.0</td>\n",
       "      <td>4593.0</td>\n",
       "      <td>128.0</td>\n",
       "    </tr>\n",
       "    <tr>\n",
       "      <th>02/18/2020</th>\n",
       "      <td>9128.0</td>\n",
       "      <td>5071.0</td>\n",
       "      <td>153.0</td>\n",
       "    </tr>\n",
       "    <tr>\n",
       "      <th>02/19/2020</th>\n",
       "      <td>10337.0</td>\n",
       "      <td>5615.0</td>\n",
       "      <td>169.0</td>\n",
       "    </tr>\n",
       "    <tr>\n",
       "      <th>02/20/2020</th>\n",
       "      <td>11788.0</td>\n",
       "      <td>6214.0</td>\n",
       "      <td>175.0</td>\n",
       "    </tr>\n",
       "    <tr>\n",
       "      <th>02/21/2020</th>\n",
       "      <td>11881.0</td>\n",
       "      <td>6812.0</td>\n",
       "      <td>197.0</td>\n",
       "    </tr>\n",
       "    <tr>\n",
       "      <th>02/22/2020</th>\n",
       "      <td>15299.0</td>\n",
       "      <td>7388.0</td>\n",
       "      <td>199.0</td>\n",
       "    </tr>\n",
       "    <tr>\n",
       "      <th>02/23/2020</th>\n",
       "      <td>15343.0</td>\n",
       "      <td>7827.0</td>\n",
       "      <td>224.0</td>\n",
       "    </tr>\n",
       "  </tbody>\n",
       "</table>\n",
       "</div>"
      ],
      "text/plain": [
       "segment     Hubei PRC  Others PRC  World\n",
       "Date                                    \n",
       "02/14/2020     4774.0      3199.0   85.0\n",
       "02/15/2020     5623.0      3671.0  101.0\n",
       "02/16/2020     6639.0      4109.0  117.0\n",
       "02/17/2020     7862.0      4593.0  128.0\n",
       "02/18/2020     9128.0      5071.0  153.0\n",
       "02/19/2020    10337.0      5615.0  169.0\n",
       "02/20/2020    11788.0      6214.0  175.0\n",
       "02/21/2020    11881.0      6812.0  197.0\n",
       "02/22/2020    15299.0      7388.0  199.0\n",
       "02/23/2020    15343.0      7827.0  224.0"
      ]
     },
     "execution_count": 237,
     "metadata": {},
     "output_type": "execute_result"
    }
   ],
   "source": [
    "good = pd.pivot_table(data.dropna(subset=['Recovered']),\n",
    "                        index = 'Date', columns='segment', values='Recovered', aggfunc=np.sum).fillna(method = 'ffill')\n",
    "good.tail(10)"
   ]
  },
  {
   "cell_type": "code",
   "execution_count": 238,
   "metadata": {},
   "outputs": [
    {
     "data": {
      "text/plain": [
       "<matplotlib.axes._subplots.AxesSubplot at 0x1a2d890fd0>"
      ]
     },
     "execution_count": 238,
     "metadata": {},
     "output_type": "execute_result"
    },
    {
     "data": {
      "image/png": "[encoded data removed]",
      "text/plain": [
       "<Figure size 1080x576 with 1 Axes>"
      ]
     },
     "metadata": {
      "needs_background": "light"
     },
     "output_type": "display_data"
    }
   ],
   "source": [
    "good.plot(kind='bar', figsize=(15, 8), width = 0.5, title='Recovered Cases')"
   ]
  },
  {
   "cell_type": "code",
   "execution_count": 231,
   "metadata": {},
   "outputs": [
    {
     "data": {
      "text/plain": [
       "2346.0"
      ]
     },
     "execution_count": 231,
     "metadata": {},
     "output_type": "execute_result"
    }
   ],
   "source": [
    "#Max death in One day\n",
    "Max_deaths = data.Deaths.max()\n",
    "Max_deaths"
   ]
  },
  {
   "cell_type": "code",
   "execution_count": 232,
   "metadata": {},
   "outputs": [
    {
     "data": {
      "text/plain": [
       "Text(0, 0.5, 'Death count')"
      ]
     },
     "execution_count": 232,
     "metadata": {},
     "output_type": "execute_result"
    },
    {
     "data": {
      "image/png": "[encoded data removed]",
      "text/plain": [
       "<Figure size 1080x576 with 1 Axes>"
      ]
     },
     "metadata": {
      "needs_background": "light"
     },
     "output_type": "display_data"
    }
   ],
   "source": [
    "#Day wise death in Hubei PRC\n",
    "\n",
    "temp_df = data[['Date', 'Deaths']]\n",
    "death_df = temp_df.groupby(['Date']).sum()\n",
    "death_df.sort_values('Deaths', ascending=False, inplace=True)\n",
    "death_df.plot(kind='bar', title='Deaths', figsize=(15, 8), color='r')\n",
    "plt.ylabel('Death count')"
   ]
  },
  {
   "cell_type": "code",
   "execution_count": 233,
   "metadata": {},
   "outputs": [
    {
     "data": {
      "text/plain": [
       "<matplotlib.axes._subplots.AxesSubplot at 0x1a28b5f650>"
      ]
     },
     "execution_count": 233,
     "metadata": {},
     "output_type": "execute_result"
    },
    {
     "data": {
      "image/png": "[encoded data removed]",
      "text/plain": [
       "<Figure size 1080x576 with 1 Axes>"
      ]
     },
     "metadata": {
      "needs_background": "light"
     },
     "output_type": "display_data"
    }
   ],
   "source": [
    "#Day wise Recovered ratio\n",
    "\n",
    "temp_df = data[['Date','Recovered']]\n",
    "recover_df = temp_df.groupby(['Date']).sum()\n",
    "recover_df.sort_values('Recovered', ascending=False, inplace=True)\n",
    "recover_df.plot(kind='bar', figsize=(15, 8), title='Total no of Patient recovered', color='g')"
   ]
  },
  {
   "cell_type": "code",
   "execution_count": 243,
   "metadata": {},
   "outputs": [],
   "source": [
    "df = confirm.join(death, lsuffix='_confirm', rsuffix='_death')\n",
    "df = df.join(good.add_suffix('_recover'))\n",
    "df['Hubei PRC_death_rate'] = df['Hubei PRC_death']/df['Hubei PRC_confirm']\n",
    "df['Others PRC_death_rate'] = df['Others PRC_death']/df['Others PRC_confirm']\n",
    "df['World_death_rate'] = df['World_death']/df['World_confirm']\n",
    "df['Hubei PRC_recover_rate'] = df['Hubei PRC_recover']/df['Hubei PRC_confirm']\n",
    "df['Others PRC_recover_rate'] = df['Others PRC_recover']/df['Others PRC_confirm']\n",
    "df['World_recover_rate'] = df['World_recover']/df['World_confirm']"
   ]
  },
  {
   "cell_type": "code",
   "execution_count": 245,
   "metadata": {},
   "outputs": [
    {
     "data": {
      "image/png": "[encoded data removed]",
      "text/plain": [
       "<Figure size 792x432 with 1 Axes>"
      ]
     },
     "metadata": {
      "needs_background": "light"
     },
     "output_type": "display_data"
    }
   ],
   "source": [
    "death_rate = df[['Hubei PRC_death_rate', 'Others PRC_death_rate', 'World_death_rate']] * 100\n",
    "plt.figure(figsize=(11 , 6))\n",
    "plt.plot(death_rate, marker='o')\n",
    "plt.title('Death Rate %')\n",
    "plt.legend(death.columns)\n",
    "plt.xticks(rotation=45)\n",
    "plt.show()"
   ]
  },
  {
   "cell_type": "code",
   "execution_count": null,
   "metadata": {},
   "outputs": [],
   "source": []
  }
 ],
 "metadata": {
  "kernelspec": {
   "display_name": "Python 3",
   "language": "python",
   "name": "python3"
  },
  "language_info": {
   "codemirror_mode": {
    "name": "ipython",
    "version": 3
   },
   "file_extension": ".py",
   "mimetype": "text/x-python",
   "name": "python",
   "nbconvert_exporter": "python",
   "pygments_lexer": "ipython3",
   "version": "3.7.6"
  }
 },
 "nbformat": 4,
 "nbformat_minor": 2
}
